{
 "cells": [
  {
   "cell_type": "code",
   "execution_count": 3,
   "id": "initial_id",
   "metadata": {
    "ExecuteTime": {
     "end_time": "2024-04-01T15:14:47.387253Z",
     "start_time": "2024-04-01T15:14:47.344808Z"
    },
    "collapsed": true
   },
   "outputs": [],
   "source": [
    "import redis\n",
    "import hashlib\n",
    "\n",
    "import matplotlib.pyplot as plt\n",
    "import pandas as pd\n",
    "import seaborn as sns"
   ]
  },
  {
   "cell_type": "markdown",
   "id": "6ed44313a5cbc9d2",
   "metadata": {
    "collapsed": false
   },
   "source": [
    "# Notebook para lectura de datos guardados en Redis."
   ]
  },
  {
   "cell_type": "code",
   "execution_count": 4,
   "id": "8764fb622fb44556",
   "metadata": {
    "ExecuteTime": {
     "end_time": "2024-04-01T15:14:47.391282Z",
     "start_time": "2024-04-01T15:14:47.388562Z"
    },
    "collapsed": false
   },
   "outputs": [],
   "source": [
    "# Conectamos al servidor redis (correr el docker compose previamente, sino no funcionará)\n",
    "r = redis.Redis(host='localhost', port=6379, decode_responses=True)"
   ]
  },
  {
   "cell_type": "code",
   "execution_count": 14,
   "id": "d2a7ec0e76ab869e",
   "metadata": {
    "ExecuteTime": {
     "end_time": "2024-04-01T15:14:47.464810Z",
     "start_time": "2024-04-01T15:14:47.392369Z"
    },
    "collapsed": false
   },
   "outputs": [],
   "source": [
    "# Obtención de datos para prueba\n",
    "df_temp = pd.read_csv(\"./data_playlist_batch.csv\")\n",
    "\n",
    "# Sampleamos 100 valores al azar\n",
    "HIGH_LINEAR_CORRELATION_VARIABLES= ['danceability','energy','speechiness']\n",
    "df_temp =  df_temp[HIGH_LINEAR_CORRELATION_VARIABLES]\n",
    "df_temp = df_temp.reset_index(drop=True)\n",
    "df_temp = df_temp.sample(10)\n",
    "\n",
    "test_values = df_temp.values.tolist()\n",
    "# Conversión de valores a cadenas y hash\n",
    "string_values = [' '.join(map(str, sublist)) for sublist in test_values]\n",
    "hashed_values = [hashlib.sha256(substring.encode()).hexdigest() for substring in string_values]  \n",
    "\n",
    "# Obtención de las salidas del modelo desde Redis\n",
    "# Estas salidas ya fueron procesadas en el pasado, por lo que consultamos Redis para obtenerlas.\n",
    "model_output = [r.get(hash_key) for hash_key in hashed_values]\n",
    "\n",
    "# Reemplazo de valores nulos con un valor predeterminado\n",
    "model_output = [value if value is not None else \"NOT PROCESSED YET\" for value in model_output]"
   ]
  },
  {
   "cell_type": "markdown",
   "id": "7cc50fadce217faa",
   "metadata": {
    "collapsed": false
   },
   "source": [
    "Veamos la salida del modelo para diferentes entradas:"
   ]
  },
  {
   "cell_type": "code",
   "execution_count": 15,
   "id": "db0ccdbdf0cfde4a",
   "metadata": {
    "ExecuteTime": {
     "end_time": "2024-04-01T15:14:47.469572Z",
     "start_time": "2024-04-01T15:14:47.465958Z"
    },
    "collapsed": false
   },
   "outputs": [
    {
     "name": "stdout",
     "output_type": "stream",
     "text": [
      "Para la entrada: [0.499, 0.74, 0.029] el modelo predice que: NO_PLAYLIST\n",
      "Para la entrada: [0.464, 0.139, 0.0393] el modelo predice que: PLAYLIST\n",
      "Para la entrada: [0.809, 0.399, 0.0349] el modelo predice que: NO_PLAYLIST\n",
      "Para la entrada: [0.818, 0.769, 0.271] el modelo predice que: NO_PLAYLIST\n",
      "Para la entrada: [0.542, 0.599, 0.0276] el modelo predice que: NO_PLAYLIST\n",
      "Para la entrada: [0.34, 0.973, 0.248] el modelo predice que: NO_PLAYLIST\n",
      "Para la entrada: [0.502, 0.535, 0.0243] el modelo predice que: PLAYLIST\n",
      "Para la entrada: [0.676, 0.822, 0.0844] el modelo predice que: NO_PLAYLIST\n",
      "Para la entrada: [0.712, 0.361, 0.0775] el modelo predice que: NO_PLAYLIST\n",
      "Para la entrada: [0.573, 0.551, 0.0259] el modelo predice que: PLAYLIST\n"
     ]
    }
   ],
   "source": [
    "for index, test_value in enumerate(test_values):\n",
    "    print(f\"Para la entrada: {test_value} el modelo predice que: {model_output[index]}\")"
   ]
  }
 ],
 "metadata": {
  "kernelspec": {
   "display_name": "Python 3",
   "language": "python",
   "name": "python3"
  },
  "language_info": {
   "codemirror_mode": {
    "name": "ipython",
    "version": 3
   },
   "file_extension": ".py",
   "mimetype": "text/x-python",
   "name": "python",
   "nbconvert_exporter": "python",
   "pygments_lexer": "ipython3",
   "version": "3.10.6"
  }
 },
 "nbformat": 4,
 "nbformat_minor": 5
}
